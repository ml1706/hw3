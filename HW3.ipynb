{
 "cells": [
  {
   "cell_type": "markdown",
   "metadata": {},
   "source": [
    "# 1 Autoencoder"
   ]
  },
  {
   "cell_type": "code",
   "execution_count": 1,
   "metadata": {},
   "outputs": [
    {
     "name": "stderr",
     "output_type": "stream",
     "text": [
      "Using TensorFlow backend.\n"
     ]
    }
   ],
   "source": [
    "import numpy as np\n",
    "from keras.layers import Input, Dense, Conv2D, MaxPooling2D, UpSampling2D, Flatten, Dropout\n",
    "from keras.utils import np_utils\n",
    "from keras.models import Model\n",
    "from keras.datasets import fashion_mnist\n",
    "from keras import Sequential\n",
    "import matplotlib.pyplot as plt\n",
    "from keras.applications import VGG16\n",
    "\n",
    "#pip install opencv-python\n",
    "import cv2\n",
    "\n",
    "import pandas as pd"
   ]
  },
  {
   "cell_type": "code",
   "execution_count": 2,
   "metadata": {},
   "outputs": [],
   "source": [
    "#load and preprocess data\n",
    "(x_train, y_train), (x_test, y_test) = fashion_mnist.load_data()\n",
    "x_train, x_test = x_train.astype('float32') / 255., x_test.astype('float32') / 255.\n",
    "x_train, x_test = np.reshape(x_train, (len(x_train), 28, 28, 1)), np.reshape(x_test, (len(x_test), 28, 28, 1))"
   ]
  },
  {
   "cell_type": "code",
   "execution_count": 3,
   "metadata": {},
   "outputs": [
    {
     "name": "stdout",
     "output_type": "stream",
     "text": [
      "Model: \"sequential_1\"\n",
      "_________________________________________________________________\n",
      "Layer (type)                 Output Shape              Param #   \n",
      "=================================================================\n",
      "conv2d_1 (Conv2D)            (None, 28, 28, 32)        320       \n",
      "_________________________________________________________________\n",
      "max_pooling2d_1 (MaxPooling2 (None, 14, 14, 32)        0         \n",
      "_________________________________________________________________\n",
      "dropout_1 (Dropout)          (None, 14, 14, 32)        0         \n",
      "_________________________________________________________________\n",
      "conv2d_2 (Conv2D)            (None, 14, 14, 16)        4624      \n",
      "_________________________________________________________________\n",
      "max_pooling2d_2 (MaxPooling2 (None, 7, 7, 16)          0         \n",
      "_________________________________________________________________\n",
      "conv2d_3 (Conv2D)            (None, 7, 7, 8)           1160      \n",
      "_________________________________________________________________\n",
      "max_pooling2d_3 (MaxPooling2 (None, 4, 4, 8)           0         \n",
      "_________________________________________________________________\n",
      "dropout_2 (Dropout)          (None, 4, 4, 8)           0         \n",
      "_________________________________________________________________\n",
      "conv2d_4 (Conv2D)            (None, 4, 4, 8)           584       \n",
      "_________________________________________________________________\n",
      "up_sampling2d_1 (UpSampling2 (None, 8, 8, 8)           0         \n",
      "_________________________________________________________________\n",
      "conv2d_5 (Conv2D)            (None, 8, 8, 16)          1168      \n",
      "_________________________________________________________________\n",
      "up_sampling2d_2 (UpSampling2 (None, 16, 16, 16)        0         \n",
      "_________________________________________________________________\n",
      "conv2d_6 (Conv2D)            (None, 14, 14, 32)        4640      \n",
      "_________________________________________________________________\n",
      "dropout_3 (Dropout)          (None, 14, 14, 32)        0         \n",
      "_________________________________________________________________\n",
      "up_sampling2d_3 (UpSampling2 (None, 28, 28, 32)        0         \n",
      "_________________________________________________________________\n",
      "conv2d_7 (Conv2D)            (None, 28, 28, 1)         289       \n",
      "=================================================================\n",
      "Total params: 12,785\n",
      "Trainable params: 12,785\n",
      "Non-trainable params: 0\n",
      "_________________________________________________________________\n"
     ]
    }
   ],
   "source": [
    "#define model\n",
    "model = Sequential()\n",
    "model.add(Conv2D(32, (3, 3), activation='relu', padding='same', input_shape=(28, 28, 1)))\n",
    "model.add(MaxPooling2D((2, 2), padding='same'))\n",
    "model.add(Dropout(0.125))\n",
    "model.add(Conv2D(16, (3, 3), activation='relu', padding='same'))\n",
    "model.add(MaxPooling2D((2, 2), padding='same'))\n",
    "model.add(Conv2D(8, (3, 3), activation='relu', padding='same'))\n",
    "model.add(MaxPooling2D((2, 2), padding='same'))\n",
    "model.add(Dropout(0.125))\n",
    "model.add(Conv2D(8, (3, 3), activation='relu', padding='same'))\n",
    "model.add(UpSampling2D((2, 2)))\n",
    "model.add(Conv2D(16, (3, 3), activation='relu', padding='same'))\n",
    "model.add(UpSampling2D((2, 2)))\n",
    "model.add(Conv2D(32, (3, 3), activation='relu'))\n",
    "model.add(Dropout(0.125))\n",
    "model.add(UpSampling2D((2, 2)))\n",
    "model.add(Conv2D(1, (3, 3), activation='sigmoid', padding='same'))\n",
    "\n",
    "model.compile(optimizer='adam', loss='binary_crossentropy', metrics=['accuracy'])\n",
    "model.summary()"
   ]
  },
  {
   "cell_type": "code",
   "execution_count": 4,
   "metadata": {},
   "outputs": [
    {
     "name": "stdout",
     "output_type": "stream",
     "text": [
      "Train on 60000 samples, validate on 10000 samples\n",
      "Epoch 1/20\n",
      "60000/60000 [==============================] - 90s 1ms/step - loss: 0.3418 - accuracy: 0.5000 - val_loss: 0.3041 - val_accuracy: 0.5026\n",
      "Epoch 2/20\n",
      "60000/60000 [==============================] - 89s 1ms/step - loss: 0.3085 - accuracy: 0.5032 - val_loss: 0.2976 - val_accuracy: 0.5026\n",
      "Epoch 3/20\n",
      "60000/60000 [==============================] - 88s 1ms/step - loss: 0.3039 - accuracy: 0.5040 - val_loss: 0.2943 - val_accuracy: 0.5035\n",
      "Epoch 4/20\n",
      "60000/60000 [==============================] - 88s 1ms/step - loss: 0.3014 - accuracy: 0.5044 - val_loss: 0.2936 - val_accuracy: 0.5041\n",
      "Epoch 5/20\n",
      "60000/60000 [==============================] - 89s 1ms/step - loss: 0.2998 - accuracy: 0.5047 - val_loss: 0.2918 - val_accuracy: 0.5040\n",
      "Epoch 6/20\n",
      "60000/60000 [==============================] - 89s 1ms/step - loss: 0.2986 - accuracy: 0.5049 - val_loss: 0.2901 - val_accuracy: 0.5048\n",
      "Epoch 7/20\n",
      "60000/60000 [==============================] - 89s 1ms/step - loss: 0.2977 - accuracy: 0.5050 - val_loss: 0.2887 - val_accuracy: 0.5046\n",
      "Epoch 8/20\n",
      "60000/60000 [==============================] - 89s 1ms/step - loss: 0.2969 - accuracy: 0.5051 - val_loss: 0.2889 - val_accuracy: 0.5047\n",
      "Epoch 9/20\n",
      "60000/60000 [==============================] - 89s 1ms/step - loss: 0.2964 - accuracy: 0.5052 - val_loss: 0.2881 - val_accuracy: 0.5045\n",
      "Epoch 10/20\n",
      "60000/60000 [==============================] - 89s 1ms/step - loss: 0.2957 - accuracy: 0.5053 - val_loss: 0.2868 - val_accuracy: 0.5048\n",
      "Epoch 11/20\n",
      "60000/60000 [==============================] - 88s 1ms/step - loss: 0.2953 - accuracy: 0.5054 - val_loss: 0.2869 - val_accuracy: 0.5047\n",
      "Epoch 12/20\n",
      "60000/60000 [==============================] - 89s 1ms/step - loss: 0.2948 - accuracy: 0.5055 - val_loss: 0.2865 - val_accuracy: 0.5048\n",
      "Epoch 13/20\n",
      "60000/60000 [==============================] - 89s 1ms/step - loss: 0.2945 - accuracy: 0.5055 - val_loss: 0.2871 - val_accuracy: 0.5052\n",
      "Epoch 14/20\n",
      "60000/60000 [==============================] - 89s 1ms/step - loss: 0.2941 - accuracy: 0.5055 - val_loss: 0.2863 - val_accuracy: 0.5053\n",
      "Epoch 15/20\n",
      "60000/60000 [==============================] - 89s 1ms/step - loss: 0.2937 - accuracy: 0.5056 - val_loss: 0.2861 - val_accuracy: 0.5047\n",
      "Epoch 16/20\n",
      "60000/60000 [==============================] - 89s 1ms/step - loss: 0.2935 - accuracy: 0.5056 - val_loss: 0.2862 - val_accuracy: 0.5053\n",
      "Epoch 17/20\n",
      "60000/60000 [==============================] - 89s 1ms/step - loss: 0.2933 - accuracy: 0.5056 - val_loss: 0.2862 - val_accuracy: 0.5048\n",
      "Epoch 18/20\n",
      "60000/60000 [==============================] - 89s 1ms/step - loss: 0.2930 - accuracy: 0.5057 - val_loss: 0.2852 - val_accuracy: 0.5050\n",
      "Epoch 19/20\n",
      "60000/60000 [==============================] - 89s 1ms/step - loss: 0.2928 - accuracy: 0.5057 - val_loss: 0.2856 - val_accuracy: 0.5050\n",
      "Epoch 20/20\n",
      "60000/60000 [==============================] - 89s 1ms/step - loss: 0.2926 - accuracy: 0.5057 - val_loss: 0.2853 - val_accuracy: 0.5050\n"
     ]
    },
    {
     "data": {
      "text/plain": [
       "<keras.callbacks.callbacks.History at 0x16fade455f8>"
      ]
     },
     "execution_count": 4,
     "metadata": {},
     "output_type": "execute_result"
    }
   ],
   "source": [
    "#train\n",
    "model.fit(x_train, x_train,\n",
    "                epochs=20,\n",
    "                batch_size=64,\n",
    "                shuffle=True,\n",
    "                validation_data=(x_test, x_test))"
   ]
  },
  {
   "cell_type": "code",
   "execution_count": 5,
   "metadata": {},
   "outputs": [
    {
     "data": {
      "image/png": "[encoded data removed]",
      "text/plain": [
       "<Figure size 1440x288 with 20 Axes>"
      ]
     },
     "metadata": {
      "needs_background": "light"
     },
     "output_type": "display_data"
    }
   ],
   "source": [
    "#show some results\n",
    "decoded_imgs = model.predict(x_test)\n",
    "n = 10\n",
    "plt.figure(figsize=(20, 4))\n",
    "for i in range(n):\n",
    "    #original\n",
    "    ax = plt.subplot(2, n, i + 1)\n",
    "    plt.imshow(x_test[i].reshape(28, 28))\n",
    "    plt.gray()\n",
    "    ax.get_xaxis().set_visible(False)\n",
    "    ax.get_yaxis().set_visible(False)\n",
    "\n",
    "    #reconstructed\n",
    "    ax = plt.subplot(2, n, i + n + 1)\n",
    "    plt.imshow(decoded_imgs[i].reshape(28, 28))\n",
    "    plt.gray()\n",
    "    ax.get_xaxis().set_visible(False)\n",
    "    ax.get_yaxis().set_visible(False)\n",
    "plt.show()"
   ]
  },
  {
   "cell_type": "markdown",
   "metadata": {},
   "source": [
    "# 2.1 Deep CNN"
   ]
  },
  {
   "cell_type": "code",
   "execution_count": 6,
   "metadata": {},
   "outputs": [],
   "source": [
    "#preprocess data\n",
    "y_train, y_test = np_utils.to_categorical(y_train, 10), np_utils.to_categorical(y_test, 10)"
   ]
  },
  {
   "cell_type": "code",
   "execution_count": 7,
   "metadata": {},
   "outputs": [
    {
     "name": "stdout",
     "output_type": "stream",
     "text": [
      "Model: \"sequential_2\"\n",
      "_________________________________________________________________\n",
      "Layer (type)                 Output Shape              Param #   \n",
      "=================================================================\n",
      "conv2d_8 (Conv2D)            (None, 28, 28, 32)        544       \n",
      "_________________________________________________________________\n",
      "max_pooling2d_4 (MaxPooling2 (None, 14, 14, 32)        0         \n",
      "_________________________________________________________________\n",
      "dropout_4 (Dropout)          (None, 14, 14, 32)        0         \n",
      "_________________________________________________________________\n",
      "conv2d_9 (Conv2D)            (None, 14, 14, 64)        18496     \n",
      "_________________________________________________________________\n",
      "max_pooling2d_5 (MaxPooling2 (None, 7, 7, 64)          0         \n",
      "_________________________________________________________________\n",
      "dropout_5 (Dropout)          (None, 7, 7, 64)          0         \n",
      "_________________________________________________________________\n",
      "flatten_1 (Flatten)          (None, 3136)              0         \n",
      "_________________________________________________________________\n",
      "dense_1 (Dense)              (None, 128)               401536    \n",
      "_________________________________________________________________\n",
      "dropout_6 (Dropout)          (None, 128)               0         \n",
      "_________________________________________________________________\n",
      "dense_2 (Dense)              (None, 10)                1290      \n",
      "=================================================================\n",
      "Total params: 421,866\n",
      "Trainable params: 421,866\n",
      "Non-trainable params: 0\n",
      "_________________________________________________________________\n"
     ]
    }
   ],
   "source": [
    "#define model\n",
    "model = Sequential()\n",
    "model.add(Conv2D(filters = 32, kernel_size=(4, 4), activation='relu', strides=(1, 1), padding='same', input_shape=(28,28,1)))\n",
    "model.add(MaxPooling2D(pool_size=(2, 2)))\n",
    "model.add(Dropout(0.25))\n",
    "model.add(Conv2D(filters = 64, kernel_size=(3, 3), activation='relu', strides=(1, 1), padding='same'))\n",
    "model.add(MaxPooling2D(pool_size=(2, 2)))\n",
    "model.add(Dropout(0.25))\n",
    "model.add(Flatten())\n",
    "model.add(Dense(128, activation='relu'))\n",
    "model.add(Dropout(0.25))\n",
    "model.add(Dense(10, activation='softmax'))\n",
    "model.compile(loss='categorical_crossentropy', optimizer='adam', metrics=['accuracy'])\n",
    "model.summary()"
   ]
  },
  {
   "cell_type": "code",
   "execution_count": 8,
   "metadata": {},
   "outputs": [
    {
     "name": "stdout",
     "output_type": "stream",
     "text": [
      "Train on 60000 samples, validate on 10000 samples\n",
      "Epoch 1/50\n",
      "60000/60000 [==============================] - 27s 444us/step - loss: 0.5758 - accuracy: 0.7908 - val_loss: 0.3783 - val_accuracy: 0.8638\n",
      "Epoch 2/50\n",
      "60000/60000 [==============================] - 26s 439us/step - loss: 0.3748 - accuracy: 0.8644 - val_loss: 0.3198 - val_accuracy: 0.8804\n",
      "Epoch 3/50\n",
      "60000/60000 [==============================] - 26s 441us/step - loss: 0.3261 - accuracy: 0.8813 - val_loss: 0.3151 - val_accuracy: 0.8841\n",
      "Epoch 4/50\n",
      "60000/60000 [==============================] - 26s 440us/step - loss: 0.3006 - accuracy: 0.8898 - val_loss: 0.2805 - val_accuracy: 0.8975\n",
      "Epoch 5/50\n",
      "60000/60000 [==============================] - 26s 440us/step - loss: 0.2766 - accuracy: 0.8972 - val_loss: 0.2649 - val_accuracy: 0.9036\n",
      "Epoch 6/50\n",
      "60000/60000 [==============================] - 26s 439us/step - loss: 0.2614 - accuracy: 0.9035 - val_loss: 0.2561 - val_accuracy: 0.9060\n",
      "Epoch 7/50\n",
      "60000/60000 [==============================] - 26s 439us/step - loss: 0.2432 - accuracy: 0.9112 - val_loss: 0.2458 - val_accuracy: 0.9105\n",
      "Epoch 8/50\n",
      "60000/60000 [==============================] - 27s 442us/step - loss: 0.2362 - accuracy: 0.9121 - val_loss: 0.2461 - val_accuracy: 0.9111\n",
      "Epoch 9/50\n",
      "60000/60000 [==============================] - 26s 439us/step - loss: 0.2267 - accuracy: 0.9155 - val_loss: 0.2400 - val_accuracy: 0.9121\n",
      "Epoch 10/50\n",
      "60000/60000 [==============================] - 26s 438us/step - loss: 0.2156 - accuracy: 0.9201 - val_loss: 0.2378 - val_accuracy: 0.9114\n",
      "Epoch 11/50\n",
      "60000/60000 [==============================] - 26s 441us/step - loss: 0.2071 - accuracy: 0.9240 - val_loss: 0.2243 - val_accuracy: 0.9170\n",
      "Epoch 12/50\n",
      "60000/60000 [==============================] - 26s 440us/step - loss: 0.2011 - accuracy: 0.9242 - val_loss: 0.2327 - val_accuracy: 0.9166\n",
      "Epoch 13/50\n",
      "60000/60000 [==============================] - 26s 439us/step - loss: 0.1928 - accuracy: 0.9283 - val_loss: 0.2211 - val_accuracy: 0.9211\n",
      "Epoch 14/50\n",
      "60000/60000 [==============================] - 26s 440us/step - loss: 0.1861 - accuracy: 0.9298 - val_loss: 0.2155 - val_accuracy: 0.9218\n",
      "Epoch 15/50\n",
      "60000/60000 [==============================] - 26s 439us/step - loss: 0.1848 - accuracy: 0.9310 - val_loss: 0.2119 - val_accuracy: 0.9248\n",
      "Epoch 16/50\n",
      "60000/60000 [==============================] - 26s 439us/step - loss: 0.1758 - accuracy: 0.9326 - val_loss: 0.2182 - val_accuracy: 0.9224\n",
      "Epoch 17/50\n",
      "60000/60000 [==============================] - 26s 440us/step - loss: 0.1742 - accuracy: 0.9339 - val_loss: 0.2200 - val_accuracy: 0.9234\n",
      "Epoch 18/50\n",
      "60000/60000 [==============================] - 26s 439us/step - loss: 0.1654 - accuracy: 0.9382 - val_loss: 0.2138 - val_accuracy: 0.9234\n",
      "Epoch 19/50\n",
      "60000/60000 [==============================] - 26s 439us/step - loss: 0.1632 - accuracy: 0.9375 - val_loss: 0.2149 - val_accuracy: 0.9233\n",
      "Epoch 20/50\n",
      "60000/60000 [==============================] - 26s 438us/step - loss: 0.1576 - accuracy: 0.9395 - val_loss: 0.2183 - val_accuracy: 0.9245\n",
      "Epoch 21/50\n",
      "60000/60000 [==============================] - 26s 440us/step - loss: 0.1548 - accuracy: 0.9409 - val_loss: 0.2268 - val_accuracy: 0.9207\n",
      "Epoch 22/50\n",
      "60000/60000 [==============================] - 26s 440us/step - loss: 0.1514 - accuracy: 0.9420 - val_loss: 0.2253 - val_accuracy: 0.9236\n",
      "Epoch 23/50\n",
      "60000/60000 [==============================] - 26s 441us/step - loss: 0.1457 - accuracy: 0.9440 - val_loss: 0.2188 - val_accuracy: 0.9220\n",
      "Epoch 24/50\n",
      "60000/60000 [==============================] - 26s 440us/step - loss: 0.1451 - accuracy: 0.9454 - val_loss: 0.2230 - val_accuracy: 0.9219\n",
      "Epoch 25/50\n",
      "60000/60000 [==============================] - 26s 440us/step - loss: 0.1452 - accuracy: 0.9442 - val_loss: 0.2153 - val_accuracy: 0.9281\n",
      "Epoch 26/50\n",
      "60000/60000 [==============================] - 26s 440us/step - loss: 0.1392 - accuracy: 0.9471 - val_loss: 0.2131 - val_accuracy: 0.9280\n",
      "Epoch 27/50\n",
      "60000/60000 [==============================] - 26s 439us/step - loss: 0.1385 - accuracy: 0.9463 - val_loss: 0.2218 - val_accuracy: 0.9286\n",
      "Epoch 28/50\n",
      "60000/60000 [==============================] - 26s 440us/step - loss: 0.1369 - accuracy: 0.9480 - val_loss: 0.2286 - val_accuracy: 0.9272\n",
      "Epoch 29/50\n",
      "60000/60000 [==============================] - 26s 440us/step - loss: 0.1339 - accuracy: 0.9478 - val_loss: 0.2279 - val_accuracy: 0.9252\n",
      "Epoch 30/50\n",
      "60000/60000 [==============================] - 26s 439us/step - loss: 0.1303 - accuracy: 0.9507 - val_loss: 0.2264 - val_accuracy: 0.9287\n",
      "Epoch 31/50\n",
      "60000/60000 [==============================] - 26s 441us/step - loss: 0.1279 - accuracy: 0.9513 - val_loss: 0.2191 - val_accuracy: 0.9286\n",
      "Epoch 32/50\n",
      "60000/60000 [==============================] - 26s 440us/step - loss: 0.1238 - accuracy: 0.9528 - val_loss: 0.2189 - val_accuracy: 0.9280\n",
      "Epoch 33/50\n",
      "60000/60000 [==============================] - 26s 440us/step - loss: 0.1256 - accuracy: 0.9514 - val_loss: 0.2188 - val_accuracy: 0.9293\n",
      "Epoch 34/50\n",
      "60000/60000 [==============================] - 26s 440us/step - loss: 0.1209 - accuracy: 0.9541 - val_loss: 0.2315 - val_accuracy: 0.9268\n",
      "Epoch 35/50\n",
      "60000/60000 [==============================] - 26s 440us/step - loss: 0.1209 - accuracy: 0.9535 - val_loss: 0.2384 - val_accuracy: 0.9264\n",
      "Epoch 36/50\n",
      "60000/60000 [==============================] - 26s 440us/step - loss: 0.1205 - accuracy: 0.9535 - val_loss: 0.2336 - val_accuracy: 0.9279\n",
      "Epoch 37/50\n",
      "60000/60000 [==============================] - 26s 440us/step - loss: 0.1186 - accuracy: 0.9544 - val_loss: 0.2338 - val_accuracy: 0.9250\n",
      "Epoch 38/50\n",
      "60000/60000 [==============================] - 26s 440us/step - loss: 0.1157 - accuracy: 0.9560 - val_loss: 0.2270 - val_accuracy: 0.9300\n",
      "Epoch 39/50\n",
      "60000/60000 [==============================] - 26s 441us/step - loss: 0.1155 - accuracy: 0.9551 - val_loss: 0.2298 - val_accuracy: 0.9307\n",
      "Epoch 40/50\n",
      "60000/60000 [==============================] - 26s 441us/step - loss: 0.1138 - accuracy: 0.9567 - val_loss: 0.2421 - val_accuracy: 0.9260\n",
      "Epoch 41/50\n",
      "60000/60000 [==============================] - 26s 441us/step - loss: 0.1135 - accuracy: 0.9567 - val_loss: 0.2436 - val_accuracy: 0.9257\n",
      "Epoch 42/50\n",
      "60000/60000 [==============================] - 26s 440us/step - loss: 0.1108 - accuracy: 0.9569 - val_loss: 0.2389 - val_accuracy: 0.9286\n",
      "Epoch 43/50\n",
      "60000/60000 [==============================] - 26s 440us/step - loss: 0.1142 - accuracy: 0.9565 - val_loss: 0.2381 - val_accuracy: 0.9272\n",
      "Epoch 44/50\n",
      "60000/60000 [==============================] - 26s 441us/step - loss: 0.1078 - accuracy: 0.9581 - val_loss: 0.2340 - val_accuracy: 0.9288\n",
      "Epoch 45/50\n",
      "60000/60000 [==============================] - 27s 442us/step - loss: 0.1064 - accuracy: 0.9588 - val_loss: 0.2406 - val_accuracy: 0.9291\n",
      "Epoch 46/50\n",
      "60000/60000 [==============================] - 27s 443us/step - loss: 0.1064 - accuracy: 0.9587 - val_loss: 0.2386 - val_accuracy: 0.9286\n",
      "Epoch 47/50\n",
      "60000/60000 [==============================] - 26s 440us/step - loss: 0.1040 - accuracy: 0.9590 - val_loss: 0.2359 - val_accuracy: 0.9284\n",
      "Epoch 48/50\n",
      "60000/60000 [==============================] - 26s 441us/step - loss: 0.1041 - accuracy: 0.9604 - val_loss: 0.2338 - val_accuracy: 0.9297\n",
      "Epoch 49/50\n",
      "60000/60000 [==============================] - 27s 442us/step - loss: 0.1055 - accuracy: 0.9595 - val_loss: 0.2385 - val_accuracy: 0.9270\n",
      "Epoch 50/50\n",
      "60000/60000 [==============================] - 26s 441us/step - loss: 0.1030 - accuracy: 0.9603 - val_loss: 0.2553 - val_accuracy: 0.9251\n"
     ]
    },
    {
     "data": {
      "text/plain": [
       "<keras.callbacks.callbacks.History at 0x16fb1af2048>"
      ]
     },
     "execution_count": 8,
     "metadata": {},
     "output_type": "execute_result"
    }
   ],
   "source": [
    "#train\n",
    "model.fit(x_train, y_train, batch_size=128, epochs=50, validation_data=(x_test, y_test))"
   ]
  },
  {
   "cell_type": "code",
   "execution_count": 9,
   "metadata": {},
   "outputs": [
    {
     "name": "stdout",
     "output_type": "stream",
     "text": [
      "60000/60000 [==============================] - 7s 120us/step\n",
      "model accuracy on training set: 0.9860333204269409\n",
      "10000/10000 [==============================] - 1s 119us/step\n",
      "model accuracy on test set: 0.9251000285148621\n"
     ]
    }
   ],
   "source": [
    "#print model accuracy\n",
    "print('model accuracy on training set: ' + str(model.evaluate(x_train, y_train)[1]))\n",
    "print('model accuracy on test set: ' + str(model.evaluate(x_test, y_test)[1]))"
   ]
  },
  {
   "cell_type": "markdown",
   "metadata": {},
   "source": [
    "# 2.2 Transfer Learning"
   ]
  },
  {
   "cell_type": "code",
   "execution_count": 10,
   "metadata": {},
   "outputs": [],
   "source": [
    "#resize img to 32x32(smallest size VGG16 would accept) and convert gray scale to RGB(VGG16 doesn't accept gray scale)\n",
    "xx_train = [cv2.cvtColor(cv2.resize(im, (32,32)), cv2.COLOR_GRAY2BGR) for im in x_train]\n",
    "xx_test = [cv2.cvtColor(cv2.resize(im, (32,32)), cv2.COLOR_GRAY2BGR) for im in x_test]\n",
    "xx_train = np.concatenate([arr[np.newaxis] for arr in xx_train])\n",
    "xx_test = np.concatenate([arr[np.newaxis] for arr in xx_test])"
   ]
  },
  {
   "cell_type": "code",
   "execution_count": 11,
   "metadata": {},
   "outputs": [
    {
     "name": "stdout",
     "output_type": "stream",
     "text": [
      "Model: \"sequential_3\"\n",
      "_________________________________________________________________\n",
      "Layer (type)                 Output Shape              Param #   \n",
      "=================================================================\n",
      "vgg16 (Model)                (None, 1, 1, 512)         14714688  \n",
      "_________________________________________________________________\n",
      "flatten_2 (Flatten)          (None, 512)               0         \n",
      "_________________________________________________________________\n",
      "dense_3 (Dense)              (None, 10)                5130      \n",
      "=================================================================\n",
      "Total params: 14,719,818\n",
      "Trainable params: 5,130\n",
      "Non-trainable params: 14,714,688\n",
      "_________________________________________________________________\n"
     ]
    }
   ],
   "source": [
    "#define model\n",
    "conv_base = VGG16(weights=\"imagenet\", include_top=False, input_shape=(32,32,3))\n",
    "conv_base.trainable = False\n",
    "\n",
    "model = Sequential()\n",
    "model.add(conv_base)\n",
    "model.add(Flatten())\n",
    "model.add(Dense(10, activation='softmax'))\n",
    "model.compile(loss=\"categorical_crossentropy\", optimizer=\"adam\", metrics=['accuracy'])\n",
    "model.summary()"
   ]
  },
  {
   "cell_type": "code",
   "execution_count": 12,
   "metadata": {},
   "outputs": [
    {
     "name": "stdout",
     "output_type": "stream",
     "text": [
      "Train on 60000 samples, validate on 10000 samples\n",
      "Epoch 1/20\n",
      "60000/60000 [==============================] - 160s 3ms/step - loss: 1.1389 - accuracy: 0.6788 - val_loss: 0.7676 - val_accuracy: 0.7629\n",
      "Epoch 2/20\n",
      "60000/60000 [==============================] - 161s 3ms/step - loss: 0.6753 - accuracy: 0.7835 - val_loss: 0.6360 - val_accuracy: 0.7870\n",
      "Epoch 3/20\n",
      "60000/60000 [==============================] - 161s 3ms/step - loss: 0.5886 - accuracy: 0.8043 - val_loss: 0.5765 - val_accuracy: 0.8069\n",
      "Epoch 4/20\n",
      "60000/60000 [==============================] - 162s 3ms/step - loss: 0.5436 - accuracy: 0.8159 - val_loss: 0.5449 - val_accuracy: 0.8140\n",
      "Epoch 5/20\n",
      "60000/60000 [==============================] - 164s 3ms/step - loss: 0.5140 - accuracy: 0.8231 - val_loss: 0.5202 - val_accuracy: 0.8201\n",
      "Epoch 6/20\n",
      "60000/60000 [==============================] - 162s 3ms/step - loss: 0.4929 - accuracy: 0.8296 - val_loss: 0.5012 - val_accuracy: 0.8243\n",
      "Epoch 7/20\n",
      "60000/60000 [==============================] - 162s 3ms/step - loss: 0.4772 - accuracy: 0.8333 - val_loss: 0.4874 - val_accuracy: 0.8301\n",
      "Epoch 8/20\n",
      "60000/60000 [==============================] - 161s 3ms/step - loss: 0.4642 - accuracy: 0.8372 - val_loss: 0.4759 - val_accuracy: 0.8346\n",
      "Epoch 9/20\n",
      "60000/60000 [==============================] - 162s 3ms/step - loss: 0.4535 - accuracy: 0.8401 - val_loss: 0.4670 - val_accuracy: 0.8358\n",
      "Epoch 10/20\n",
      "60000/60000 [==============================] - 163s 3ms/step - loss: 0.4445 - accuracy: 0.8430 - val_loss: 0.4605 - val_accuracy: 0.8388\n",
      "Epoch 11/20\n",
      "60000/60000 [==============================] - 162s 3ms/step - loss: 0.4365 - accuracy: 0.8448 - val_loss: 0.4541 - val_accuracy: 0.8405\n",
      "Epoch 12/20\n",
      "60000/60000 [==============================] - 162s 3ms/step - loss: 0.4301 - accuracy: 0.8475 - val_loss: 0.4496 - val_accuracy: 0.8412\n",
      "Epoch 13/20\n",
      "60000/60000 [==============================] - 163s 3ms/step - loss: 0.4241 - accuracy: 0.8490 - val_loss: 0.4466 - val_accuracy: 0.8419\n",
      "Epoch 14/20\n",
      "60000/60000 [==============================] - 163s 3ms/step - loss: 0.4189 - accuracy: 0.8505 - val_loss: 0.4420 - val_accuracy: 0.8427\n",
      "Epoch 15/20\n",
      "60000/60000 [==============================] - 161s 3ms/step - loss: 0.4141 - accuracy: 0.8518 - val_loss: 0.4367 - val_accuracy: 0.8446\n",
      "Epoch 16/20\n",
      "60000/60000 [==============================] - 161s 3ms/step - loss: 0.4101 - accuracy: 0.8528 - val_loss: 0.4339 - val_accuracy: 0.8457\n",
      "Epoch 17/20\n",
      "60000/60000 [==============================] - 162s 3ms/step - loss: 0.4061 - accuracy: 0.8540 - val_loss: 0.4316 - val_accuracy: 0.8470\n",
      "Epoch 18/20\n",
      "60000/60000 [==============================] - 163s 3ms/step - loss: 0.4030 - accuracy: 0.8553 - val_loss: 0.4298 - val_accuracy: 0.8456\n",
      "Epoch 19/20\n",
      "60000/60000 [==============================] - 161s 3ms/step - loss: 0.3994 - accuracy: 0.8569 - val_loss: 0.4250 - val_accuracy: 0.8480\n",
      "Epoch 20/20\n",
      "60000/60000 [==============================] - 162s 3ms/step - loss: 0.3963 - accuracy: 0.8570 - val_loss: 0.4217 - val_accuracy: 0.8475\n"
     ]
    },
    {
     "data": {
      "text/plain": [
       "<keras.callbacks.callbacks.History at 0x16fbb927f98>"
      ]
     },
     "execution_count": 12,
     "metadata": {},
     "output_type": "execute_result"
    }
   ],
   "source": [
    "#train\n",
    "model.fit(xx_train, y_train, batch_size=256, epochs=20, validation_data=(xx_test, y_test))"
   ]
  },
  {
   "cell_type": "code",
   "execution_count": 13,
   "metadata": {},
   "outputs": [
    {
     "name": "stdout",
     "output_type": "stream",
     "text": [
      "60000/60000 [==============================] - 157s 3ms/step\n",
      "model accuracy on training set: 0.8591333627700806\n",
      "10000/10000 [==============================] - 26s 3ms/step\n",
      "model accuracy on test set: 0.8475000262260437\n"
     ]
    }
   ],
   "source": [
    "#print model accuracy\n",
    "print('model accuracy on training set: ' + str(model.evaluate(xx_train, y_train)[1]))\n",
    "print('model accuracy on test set: ' + str(model.evaluate(xx_test, y_test)[1]))"
   ]
  },
  {
   "cell_type": "markdown",
   "metadata": {},
   "source": [
    "# 3.1 RNN"
   ]
  },
  {
   "cell_type": "code",
   "execution_count": 14,
   "metadata": {},
   "outputs": [],
   "source": [
    "import re\n",
    "from sklearn.model_selection import train_test_split\n",
    "from keras.preprocessing.text import Tokenizer\n",
    "from keras.preprocessing.sequence import pad_sequences\n",
    "from keras.layers import LSTM, Embedding"
   ]
  },
  {
   "cell_type": "code",
   "execution_count": 15,
   "metadata": {},
   "outputs": [
    {
     "data": {
      "text/html": [
       "<div>\n",
       "<style scoped>\n",
       "    .dataframe tbody tr th:only-of-type {\n",
       "        vertical-align: middle;\n",
       "    }\n",
       "\n",
       "    .dataframe tbody tr th {\n",
       "        vertical-align: top;\n",
       "    }\n",
       "\n",
       "    .dataframe thead th {\n",
       "        text-align: right;\n",
       "    }\n",
       "</style>\n",
       "<table border=\"1\" class=\"dataframe\">\n",
       "  <thead>\n",
       "    <tr style=\"text-align: right;\">\n",
       "      <th></th>\n",
       "      <th>id</th>\n",
       "      <th>tweet</th>\n",
       "      <th>k1</th>\n",
       "      <th>k2</th>\n",
       "      <th>k3</th>\n",
       "      <th>k4</th>\n",
       "      <th>k5</th>\n",
       "      <th>k6</th>\n",
       "      <th>k7</th>\n",
       "      <th>k8</th>\n",
       "      <th>k9</th>\n",
       "      <th>k10</th>\n",
       "      <th>k11</th>\n",
       "      <th>k12</th>\n",
       "      <th>k13</th>\n",
       "      <th>k14</th>\n",
       "      <th>k15</th>\n",
       "    </tr>\n",
       "  </thead>\n",
       "  <tbody>\n",
       "    <tr>\n",
       "      <th>0</th>\n",
       "      <td>1</td>\n",
       "      <td>Jazz for a Rainy Afternoon:  {link}</td>\n",
       "      <td>0.0</td>\n",
       "      <td>0.0</td>\n",
       "      <td>0.0</td>\n",
       "      <td>0.0</td>\n",
       "      <td>0.0</td>\n",
       "      <td>0.0</td>\n",
       "      <td>0.000</td>\n",
       "      <td>0.0</td>\n",
       "      <td>0.000</td>\n",
       "      <td>1.0</td>\n",
       "      <td>0.0</td>\n",
       "      <td>0.0</td>\n",
       "      <td>0.000</td>\n",
       "      <td>0.0</td>\n",
       "      <td>0.0</td>\n",
       "    </tr>\n",
       "    <tr>\n",
       "      <th>1</th>\n",
       "      <td>2</td>\n",
       "      <td>RT: @mention: I love rainy days.</td>\n",
       "      <td>0.0</td>\n",
       "      <td>0.0</td>\n",
       "      <td>0.0</td>\n",
       "      <td>0.0</td>\n",
       "      <td>0.0</td>\n",
       "      <td>0.0</td>\n",
       "      <td>0.000</td>\n",
       "      <td>0.0</td>\n",
       "      <td>0.000</td>\n",
       "      <td>1.0</td>\n",
       "      <td>0.0</td>\n",
       "      <td>0.0</td>\n",
       "      <td>0.000</td>\n",
       "      <td>0.0</td>\n",
       "      <td>0.0</td>\n",
       "    </tr>\n",
       "    <tr>\n",
       "      <th>2</th>\n",
       "      <td>3</td>\n",
       "      <td>Good Morning Chicago! Time to kick the Windy C...</td>\n",
       "      <td>0.0</td>\n",
       "      <td>0.0</td>\n",
       "      <td>0.0</td>\n",
       "      <td>0.0</td>\n",
       "      <td>0.0</td>\n",
       "      <td>0.0</td>\n",
       "      <td>1.000</td>\n",
       "      <td>0.0</td>\n",
       "      <td>0.000</td>\n",
       "      <td>0.0</td>\n",
       "      <td>0.0</td>\n",
       "      <td>0.0</td>\n",
       "      <td>0.000</td>\n",
       "      <td>0.0</td>\n",
       "      <td>0.0</td>\n",
       "    </tr>\n",
       "    <tr>\n",
       "      <th>3</th>\n",
       "      <td>6</td>\n",
       "      <td>Preach lol! :) RT @mention: #alliwantis this t...</td>\n",
       "      <td>0.0</td>\n",
       "      <td>0.0</td>\n",
       "      <td>0.0</td>\n",
       "      <td>0.0</td>\n",
       "      <td>0.0</td>\n",
       "      <td>0.0</td>\n",
       "      <td>0.604</td>\n",
       "      <td>0.0</td>\n",
       "      <td>0.196</td>\n",
       "      <td>0.0</td>\n",
       "      <td>0.0</td>\n",
       "      <td>0.0</td>\n",
       "      <td>0.201</td>\n",
       "      <td>0.0</td>\n",
       "      <td>0.0</td>\n",
       "    </tr>\n",
       "    <tr>\n",
       "      <th>4</th>\n",
       "      <td>9</td>\n",
       "      <td>@mention good morning sunshine</td>\n",
       "      <td>0.0</td>\n",
       "      <td>0.0</td>\n",
       "      <td>0.0</td>\n",
       "      <td>0.0</td>\n",
       "      <td>0.0</td>\n",
       "      <td>0.0</td>\n",
       "      <td>0.000</td>\n",
       "      <td>0.0</td>\n",
       "      <td>0.000</td>\n",
       "      <td>0.0</td>\n",
       "      <td>0.0</td>\n",
       "      <td>0.0</td>\n",
       "      <td>1.000</td>\n",
       "      <td>0.0</td>\n",
       "      <td>0.0</td>\n",
       "    </tr>\n",
       "  </tbody>\n",
       "</table>\n",
       "</div>"
      ],
      "text/plain": [
       "   id                                              tweet   k1   k2   k3   k4  \\\n",
       "0   1                Jazz for a Rainy Afternoon:  {link}  0.0  0.0  0.0  0.0   \n",
       "1   2                   RT: @mention: I love rainy days.  0.0  0.0  0.0  0.0   \n",
       "2   3  Good Morning Chicago! Time to kick the Windy C...  0.0  0.0  0.0  0.0   \n",
       "3   6  Preach lol! :) RT @mention: #alliwantis this t...  0.0  0.0  0.0  0.0   \n",
       "4   9                     @mention good morning sunshine  0.0  0.0  0.0  0.0   \n",
       "\n",
       "    k5   k6     k7   k8     k9  k10  k11  k12    k13  k14  k15  \n",
       "0  0.0  0.0  0.000  0.0  0.000  1.0  0.0  0.0  0.000  0.0  0.0  \n",
       "1  0.0  0.0  0.000  0.0  0.000  1.0  0.0  0.0  0.000  0.0  0.0  \n",
       "2  0.0  0.0  1.000  0.0  0.000  0.0  0.0  0.0  0.000  0.0  0.0  \n",
       "3  0.0  0.0  0.604  0.0  0.196  0.0  0.0  0.0  0.201  0.0  0.0  \n",
       "4  0.0  0.0  0.000  0.0  0.000  0.0  0.0  0.0  1.000  0.0  0.0  "
      ]
     },
     "execution_count": 15,
     "metadata": {},
     "output_type": "execute_result"
    }
   ],
   "source": [
    "#load data\n",
    "text_data = pd.read_csv('tweets_with_labels.csv',sep='\\t')\n",
    "text_data.head()"
   ]
  },
  {
   "cell_type": "code",
   "execution_count": 16,
   "metadata": {},
   "outputs": [],
   "source": [
    "#preporcess\n",
    "clean_text=[]\n",
    "for tweet in text_data['tweet']:\n",
    "    tmp = (re.sub('[^a-zA-Z]', ' ', tweet))\n",
    "    tmp = re.sub(r'\\s+', ' ', tmp)\n",
    "    clean_text.append(re.sub(r\"\\s+[a-zA-Z]\\s+\", ' ', tmp))\n",
    "clean_text=np.array(clean_text)"
   ]
  },
  {
   "cell_type": "code",
   "execution_count": 17,
   "metadata": {},
   "outputs": [],
   "source": [
    "#preprocess and split data to train and test set\n",
    "x = clean_text\n",
    "y = text_data.loc[:, 'k1':'k15':1]\n",
    "x_train,x_test,y_train,y_test = train_test_split(x, y, test_size=0.25, random_state=233)"
   ]
  },
  {
   "cell_type": "code",
   "execution_count": 18,
   "metadata": {},
   "outputs": [],
   "source": [
    "#tokenize\n",
    "tokenizer = Tokenizer(num_words=1024)\n",
    "tokenizer.fit_on_texts(x_train)\n",
    "x_train = tokenizer.texts_to_sequences(x_train)\n",
    "x_test = tokenizer.texts_to_sequences(x_test)\n",
    "x_train = pad_sequences(x_train, maxlen=64)\n",
    "x_test = pad_sequences(x_test, maxlen=64)"
   ]
  },
  {
   "cell_type": "code",
   "execution_count": 19,
   "metadata": {},
   "outputs": [
    {
     "name": "stdout",
     "output_type": "stream",
     "text": [
      "Model: \"sequential_4\"\n",
      "_________________________________________________________________\n",
      "Layer (type)                 Output Shape              Param #   \n",
      "=================================================================\n",
      "embedding_1 (Embedding)      (None, None, 64)          65536     \n",
      "_________________________________________________________________\n",
      "lstm_1 (LSTM)                (None, 64)                33024     \n",
      "_________________________________________________________________\n",
      "dense_4 (Dense)              (None, 15)                975       \n",
      "=================================================================\n",
      "Total params: 99,535\n",
      "Trainable params: 99,535\n",
      "Non-trainable params: 0\n",
      "_________________________________________________________________\n"
     ]
    }
   ],
   "source": [
    "#define model\n",
    "model_r = Sequential()\n",
    "model_r.add(Embedding(1024, 64))\n",
    "model_r.add(LSTM(64))\n",
    "model_r.add(Dense(15, activation ='softmax'))\n",
    "model_r.compile(optimizer = 'adam',\n",
    "             loss = 'categorical_crossentropy',\n",
    "             metrics=['accuracy'])\n",
    "model_r.summary()"
   ]
  },
  {
   "cell_type": "code",
   "execution_count": 20,
   "metadata": {},
   "outputs": [
    {
     "name": "stderr",
     "output_type": "stream",
     "text": [
      "C:\\Users\\kevin\\Anaconda3\\lib\\site-packages\\tensorflow_core\\python\\framework\\indexed_slices.py:424: UserWarning: Converting sparse IndexedSlices to a dense Tensor of unknown shape. This may consume a large amount of memory.\n",
      "  \"Converting sparse IndexedSlices to a dense Tensor of unknown shape. \"\n"
     ]
    },
    {
     "name": "stdout",
     "output_type": "stream",
     "text": [
      "Train on 58459 samples, validate on 19487 samples\n",
      "Epoch 1/30\n",
      "58459/58459 [==============================] - 40s 684us/step - loss: 1.7058 - accuracy: 0.6899 - val_loss: 1.4319 - val_accuracy: 0.7862\n",
      "Epoch 2/30\n",
      "58459/58459 [==============================] - 40s 679us/step - loss: 1.4573 - accuracy: 0.7955 - val_loss: 1.4720 - val_accuracy: 0.8019\n",
      "Epoch 3/30\n",
      "58459/58459 [==============================] - 40s 683us/step - loss: 1.5417 - accuracy: 0.7884 - val_loss: 1.5769 - val_accuracy: 0.7910\n",
      "Epoch 4/30\n",
      "58459/58459 [==============================] - 40s 686us/step - loss: 1.6208 - accuracy: 0.7892 - val_loss: 1.6289 - val_accuracy: 0.7924\n",
      "Epoch 5/30\n",
      "58459/58459 [==============================] - 40s 683us/step - loss: 1.6891 - accuracy: 0.7869 - val_loss: 1.7256 - val_accuracy: 0.7909\n",
      "Epoch 6/30\n",
      "58459/58459 [==============================] - 40s 689us/step - loss: 1.7910 - accuracy: 0.7827 - val_loss: 1.8060 - val_accuracy: 0.7741\n",
      "Epoch 7/30\n",
      "58459/58459 [==============================] - 41s 693us/step - loss: 1.8611 - accuracy: 0.7771 - val_loss: 1.8927 - val_accuracy: 0.7607\n",
      "Epoch 8/30\n",
      "58459/58459 [==============================] - 40s 689us/step - loss: 1.9465 - accuracy: 0.7720 - val_loss: 1.9863 - val_accuracy: 0.7607\n",
      "Epoch 9/30\n",
      "58459/58459 [==============================] - 40s 689us/step - loss: 2.0173 - accuracy: 0.7657 - val_loss: 2.0146 - val_accuracy: 0.7737\n",
      "Epoch 10/30\n",
      "58459/58459 [==============================] - 40s 687us/step - loss: 2.0909 - accuracy: 0.7600 - val_loss: 2.1120 - val_accuracy: 0.7476\n",
      "Epoch 11/30\n",
      "58459/58459 [==============================] - 40s 684us/step - loss: 2.1647 - accuracy: 0.7548 - val_loss: 2.1948 - val_accuracy: 0.7428\n",
      "Epoch 12/30\n",
      "58459/58459 [==============================] - 40s 685us/step - loss: 2.2318 - accuracy: 0.7490 - val_loss: 2.2021 - val_accuracy: 0.7606\n",
      "Epoch 13/30\n",
      "58459/58459 [==============================] - 40s 686us/step - loss: 2.2808 - accuracy: 0.7462 - val_loss: 2.3028 - val_accuracy: 0.7205\n",
      "Epoch 14/30\n",
      "58459/58459 [==============================] - 40s 687us/step - loss: 2.3439 - accuracy: 0.7414 - val_loss: 2.3089 - val_accuracy: 0.7582\n",
      "Epoch 15/30\n",
      "58459/58459 [==============================] - 40s 691us/step - loss: 2.3891 - accuracy: 0.7391 - val_loss: 2.3732 - val_accuracy: 0.7207\n",
      "Epoch 16/30\n",
      "58459/58459 [==============================] - 40s 689us/step - loss: 2.4179 - accuracy: 0.7361 - val_loss: 2.4009 - val_accuracy: 0.7383\n",
      "Epoch 17/30\n",
      "58459/58459 [==============================] - 40s 692us/step - loss: 2.4540 - accuracy: 0.7340 - val_loss: 2.4552 - val_accuracy: 0.7374\n",
      "Epoch 18/30\n",
      "58459/58459 [==============================] - 40s 690us/step - loss: 2.5043 - accuracy: 0.7292 - val_loss: 2.7046 - val_accuracy: 0.6886\n",
      "Epoch 19/30\n",
      "58459/58459 [==============================] - 40s 688us/step - loss: 2.5883 - accuracy: 0.7168 - val_loss: 2.5118 - val_accuracy: 0.7176\n",
      "Epoch 20/30\n",
      "58459/58459 [==============================] - 40s 687us/step - loss: 2.5485 - accuracy: 0.7283 - val_loss: 2.5895 - val_accuracy: 0.7243\n",
      "Epoch 21/30\n",
      "58459/58459 [==============================] - 40s 689us/step - loss: 2.5240 - accuracy: 0.7240 - val_loss: 2.5028 - val_accuracy: 0.7142\n",
      "Epoch 22/30\n",
      "58459/58459 [==============================] - 40s 691us/step - loss: 2.5636 - accuracy: 0.7235 - val_loss: 2.5854 - val_accuracy: 0.6899\n",
      "Epoch 23/30\n",
      "58459/58459 [==============================] - 41s 694us/step - loss: 2.5772 - accuracy: 0.7192 - val_loss: 2.6213 - val_accuracy: 0.7046\n",
      "Epoch 24/30\n",
      "58459/58459 [==============================] - 40s 692us/step - loss: 2.6379 - accuracy: 0.7161 - val_loss: 2.6126 - val_accuracy: 0.7165\n",
      "Epoch 25/30\n",
      "58459/58459 [==============================] - 40s 689us/step - loss: 2.6698 - accuracy: 0.7131 - val_loss: 2.6489 - val_accuracy: 0.6904\n",
      "Epoch 26/30\n",
      "58459/58459 [==============================] - 40s 688us/step - loss: 2.6838 - accuracy: 0.7097 - val_loss: 2.7518 - val_accuracy: 0.7007\n",
      "Epoch 27/30\n",
      "58459/58459 [==============================] - 40s 690us/step - loss: 2.7572 - accuracy: 0.7086 - val_loss: 2.7829 - val_accuracy: 0.6975\n",
      "Epoch 28/30\n",
      "58459/58459 [==============================] - 40s 692us/step - loss: 2.7668 - accuracy: 0.7071 - val_loss: 2.8257 - val_accuracy: 0.6845\n",
      "Epoch 29/30\n",
      "58459/58459 [==============================] - 40s 688us/step - loss: 2.7946 - accuracy: 0.7062 - val_loss: 2.7650 - val_accuracy: 0.7057\n",
      "Epoch 30/30\n",
      "58459/58459 [==============================] - 40s 691us/step - loss: 2.7794 - accuracy: 0.7042 - val_loss: 2.7822 - val_accuracy: 0.7124\n"
     ]
    },
    {
     "data": {
      "text/plain": [
       "<keras.callbacks.callbacks.History at 0x16fbf4f6eb8>"
      ]
     },
     "execution_count": 20,
     "metadata": {},
     "output_type": "execute_result"
    }
   ],
   "source": [
    "#train rnn\n",
    "model_r.fit(x_train, y_train ,epochs = 30, validation_data = (x_test, y_test))"
   ]
  },
  {
   "cell_type": "code",
   "execution_count": 21,
   "metadata": {},
   "outputs": [
    {
     "name": "stdout",
     "output_type": "stream",
     "text": [
      "58459/58459 [==============================] - 10s 174us/step\n",
      "model accuracy on training set: 0.7216681838035583\n",
      "19487/19487 [==============================] - 3s 174us/step\n",
      "model accuracy on test set: 0.7124236822128296\n"
     ]
    }
   ],
   "source": [
    "#print model accuracy\n",
    "print('model accuracy on training set: ' + str(model_r.evaluate(x_train, y_train)[1]))\n",
    "print('model accuracy on test set: ' + str(model_r.evaluate(x_test, y_test)[1]))"
   ]
  },
  {
   "cell_type": "markdown",
   "metadata": {},
   "source": [
    "# 3.2 CNN"
   ]
  },
  {
   "cell_type": "code",
   "execution_count": 22,
   "metadata": {},
   "outputs": [],
   "source": [
    "from keras.layers import Conv1D, GlobalMaxPooling1D"
   ]
  },
  {
   "cell_type": "code",
   "execution_count": 23,
   "metadata": {},
   "outputs": [
    {
     "name": "stdout",
     "output_type": "stream",
     "text": [
      "Model: \"sequential_5\"\n",
      "_________________________________________________________________\n",
      "Layer (type)                 Output Shape              Param #   \n",
      "=================================================================\n",
      "embedding_2 (Embedding)      (None, None, 64)          65536     \n",
      "_________________________________________________________________\n",
      "conv1d_1 (Conv1D)            (None, None, 64)          20544     \n",
      "_________________________________________________________________\n",
      "global_max_pooling1d_1 (Glob (None, 64)                0         \n",
      "_________________________________________________________________\n",
      "dropout_7 (Dropout)          (None, 64)                0         \n",
      "_________________________________________________________________\n",
      "dense_5 (Dense)              (None, 64)                4160      \n",
      "_________________________________________________________________\n",
      "dense_6 (Dense)              (None, 15)                975       \n",
      "=================================================================\n",
      "Total params: 91,215\n",
      "Trainable params: 91,215\n",
      "Non-trainable params: 0\n",
      "_________________________________________________________________\n"
     ]
    }
   ],
   "source": [
    "#define model\n",
    "model_c = Sequential()\n",
    "model_c.add(Embedding(1024, 64))\n",
    "model_c.add(Conv1D(64, kernel_size = 5, padding='same', activation='relu', strides=1))\n",
    "model_c.add(GlobalMaxPooling1D())\n",
    "model_c.add(Dropout(0.3))\n",
    "model_c.add(Dense(64,activation='relu'))\n",
    "model_c.add(Dense(15,activation='sigmoid'))\n",
    "model_c.compile(optimizer = 'adam',\n",
    "             loss = 'categorical_crossentropy',\n",
    "             metrics=['accuracy'])\n",
    "model_c.summary()"
   ]
  },
  {
   "cell_type": "code",
   "execution_count": 24,
   "metadata": {},
   "outputs": [
    {
     "name": "stderr",
     "output_type": "stream",
     "text": [
      "C:\\Users\\kevin\\Anaconda3\\lib\\site-packages\\tensorflow_core\\python\\framework\\indexed_slices.py:424: UserWarning: Converting sparse IndexedSlices to a dense Tensor of unknown shape. This may consume a large amount of memory.\n",
      "  \"Converting sparse IndexedSlices to a dense Tensor of unknown shape. \"\n"
     ]
    },
    {
     "name": "stdout",
     "output_type": "stream",
     "text": [
      "Train on 58459 samples, validate on 19487 samples\n",
      "Epoch 1/30\n",
      "58459/58459 [==============================] - 8s 140us/step - loss: 1.4639 - accuracy: 0.7371 - val_loss: 1.1625 - val_accuracy: 0.8150\n",
      "Epoch 2/30\n",
      "58459/58459 [==============================] - 8s 139us/step - loss: 1.1895 - accuracy: 0.8063 - val_loss: 1.1396 - val_accuracy: 0.8113\n",
      "Epoch 3/30\n",
      "58459/58459 [==============================] - 8s 137us/step - loss: 1.1513 - accuracy: 0.8096 - val_loss: 1.1296 - val_accuracy: 0.8106\n",
      "Epoch 4/30\n",
      "58459/58459 [==============================] - 8s 137us/step - loss: 1.1248 - accuracy: 0.8120 - val_loss: 1.1238 - val_accuracy: 0.8122\n",
      "Epoch 5/30\n",
      "58459/58459 [==============================] - 8s 136us/step - loss: 1.1061 - accuracy: 0.8153 - val_loss: 1.1195 - val_accuracy: 0.8121\n",
      "Epoch 6/30\n",
      "58459/58459 [==============================] - 8s 136us/step - loss: 1.0893 - accuracy: 0.8179 - val_loss: 1.1217 - val_accuracy: 0.8117\n",
      "Epoch 7/30\n",
      "58459/58459 [==============================] - 8s 136us/step - loss: 1.0769 - accuracy: 0.8178 - val_loss: 1.1186 - val_accuracy: 0.8120\n",
      "Epoch 8/30\n",
      "58459/58459 [==============================] - 8s 137us/step - loss: 1.0653 - accuracy: 0.8199 - val_loss: 1.1228 - val_accuracy: 0.8131\n",
      "Epoch 9/30\n",
      "58459/58459 [==============================] - 8s 136us/step - loss: 1.0558 - accuracy: 0.8210 - val_loss: 1.1201 - val_accuracy: 0.8150\n",
      "Epoch 10/30\n",
      "58459/58459 [==============================] - 8s 136us/step - loss: 1.0469 - accuracy: 0.8248 - val_loss: 1.1257 - val_accuracy: 0.8129\n",
      "Epoch 11/30\n",
      "58459/58459 [==============================] - 8s 136us/step - loss: 1.0419 - accuracy: 0.8237 - val_loss: 1.1257 - val_accuracy: 0.8133\n",
      "Epoch 12/30\n",
      "58459/58459 [==============================] - 8s 136us/step - loss: 1.0323 - accuracy: 0.8266 - val_loss: 1.1329 - val_accuracy: 0.8135\n",
      "Epoch 13/30\n",
      "58459/58459 [==============================] - 8s 138us/step - loss: 1.0264 - accuracy: 0.8294 - val_loss: 1.1347 - val_accuracy: 0.8136\n",
      "Epoch 14/30\n",
      "58459/58459 [==============================] - 8s 137us/step - loss: 1.0217 - accuracy: 0.8283 - val_loss: 1.1403 - val_accuracy: 0.8132\n",
      "Epoch 15/30\n",
      "58459/58459 [==============================] - 8s 136us/step - loss: 1.0166 - accuracy: 0.8285 - val_loss: 1.1416 - val_accuracy: 0.8081\n",
      "Epoch 16/30\n",
      "58459/58459 [==============================] - 8s 137us/step - loss: 1.0121 - accuracy: 0.8281 - val_loss: 1.1454 - val_accuracy: 0.8100\n",
      "Epoch 17/30\n",
      "58459/58459 [==============================] - 8s 136us/step - loss: 1.0083 - accuracy: 0.8311 - val_loss: 1.1445 - val_accuracy: 0.8127\n",
      "Epoch 18/30\n",
      "58459/58459 [==============================] - 8s 137us/step - loss: 1.0048 - accuracy: 0.8303 - val_loss: 1.1479 - val_accuracy: 0.8117\n",
      "Epoch 19/30\n",
      "58459/58459 [==============================] - 8s 137us/step - loss: 1.0022 - accuracy: 0.8303 - val_loss: 1.1515 - val_accuracy: 0.8097\n",
      "Epoch 20/30\n",
      "58459/58459 [==============================] - 8s 138us/step - loss: 0.9981 - accuracy: 0.8320 - val_loss: 1.1541 - val_accuracy: 0.8122\n",
      "Epoch 21/30\n",
      "58459/58459 [==============================] - 8s 137us/step - loss: 0.9939 - accuracy: 0.8336 - val_loss: 1.1592 - val_accuracy: 0.8141\n",
      "Epoch 22/30\n",
      "58459/58459 [==============================] - 8s 137us/step - loss: 0.9936 - accuracy: 0.8344 - val_loss: 1.1612 - val_accuracy: 0.8154\n",
      "Epoch 23/30\n",
      "58459/58459 [==============================] - 8s 136us/step - loss: 0.9885 - accuracy: 0.8350 - val_loss: 1.1637 - val_accuracy: 0.8121\n",
      "Epoch 24/30\n",
      "58459/58459 [==============================] - 8s 137us/step - loss: 0.9878 - accuracy: 0.8339 - val_loss: 1.1613 - val_accuracy: 0.8109\n",
      "Epoch 25/30\n",
      "58459/58459 [==============================] - 8s 138us/step - loss: 0.9850 - accuracy: 0.8333 - val_loss: 1.1624 - val_accuracy: 0.8107\n",
      "Epoch 26/30\n",
      "58459/58459 [==============================] - 8s 136us/step - loss: 0.9837 - accuracy: 0.8350 - val_loss: 1.1627 - val_accuracy: 0.8102\n",
      "Epoch 27/30\n",
      "58459/58459 [==============================] - 8s 137us/step - loss: 0.9802 - accuracy: 0.8337 - val_loss: 1.1640 - val_accuracy: 0.8120\n",
      "Epoch 28/30\n",
      "58459/58459 [==============================] - 8s 137us/step - loss: 0.9779 - accuracy: 0.8356 - val_loss: 1.1671 - val_accuracy: 0.8100\n",
      "Epoch 29/30\n",
      "58459/58459 [==============================] - 8s 136us/step - loss: 0.9776 - accuracy: 0.8356 - val_loss: 1.1635 - val_accuracy: 0.8121\n",
      "Epoch 30/30\n",
      "58459/58459 [==============================] - 8s 137us/step - loss: 0.9749 - accuracy: 0.8365 - val_loss: 1.1696 - val_accuracy: 0.8096\n"
     ]
    },
    {
     "data": {
      "text/plain": [
       "<keras.callbacks.callbacks.History at 0x16fbfbfc1d0>"
      ]
     },
     "execution_count": 24,
     "metadata": {},
     "output_type": "execute_result"
    }
   ],
   "source": [
    "#train cnn\n",
    "model_c.fit(x_train, y_train ,epochs = 30, validation_data = (x_test, y_test))"
   ]
  },
  {
   "cell_type": "code",
   "execution_count": 25,
   "metadata": {},
   "outputs": [
    {
     "name": "stdout",
     "output_type": "stream",
     "text": [
      "58459/58459 [==============================] - 2s 30us/step\n",
      "model accuracy on training set: 0.8458749055862427\n",
      "19487/19487 [==============================] - 1s 30us/step\n",
      "model accuracy on test set: 0.8096166849136353\n"
     ]
    }
   ],
   "source": [
    "#print model accuracy\n",
    "print('model accuracy on training set: ' + str(model_c.evaluate(x_train, y_train)[1]))\n",
    "print('model accuracy on test set: ' + str(model_c.evaluate(x_test, y_test)[1]))"
   ]
  },
  {
   "cell_type": "markdown",
   "metadata": {},
   "source": [
    "# 3.3"
   ]
  },
  {
   "cell_type": "code",
   "execution_count": 26,
   "metadata": {},
   "outputs": [],
   "source": [
    "from sklearn.metrics import roc_curve, auc"
   ]
  },
  {
   "cell_type": "code",
   "execution_count": 32,
   "metadata": {},
   "outputs": [],
   "source": [
    "#calculate micro-average-roc\n",
    "fpr_r, tpr_r, _ = roc_curve(np.array(y_test).ravel()>0, model_r.predict(x_test).ravel())\n",
    "roc_auc_r = auc(fpr_r, tpr_r)\n",
    "\n",
    "fpr_c, tpr_c, _ = roc_curve(np.array(y_test).ravel()>0, model_c.predict(x_test).ravel())\n",
    "roc_auc_c = auc(fpr_c, tpr_c)\n",
    "\n",
    "#calculate micro-average-roc (train set)\n",
    "fpr_rt, tpr_rt, _ = roc_curve(np.array(y_train).ravel()>0, model_r.predict(x_train).ravel())\n",
    "roc_auc_rt = auc(fpr_rt, tpr_rt)\n",
    "\n",
    "fpr_ct, tpr_ct, _ = roc_curve(np.array(y_train).ravel()>0, model_c.predict(x_train).ravel())\n",
    "roc_auc_ct = auc(fpr_ct, tpr_ct)"
   ]
  },
  {
   "cell_type": "code",
   "execution_count": 33,
   "metadata": {},
   "outputs": [
    {
     "data": {
      "image/png": "[encoded data removed]",
      "text/plain": [
       "<Figure size 432x288 with 1 Axes>"
      ]
     },
     "metadata": {
      "needs_background": "light"
     },
     "output_type": "display_data"
    },
    {
     "data": {
      "image/png": "[encoded data removed]",
      "text/plain": [
       "<Figure size 432x288 with 1 Axes>"
      ]
     },
     "metadata": {
      "needs_background": "light"
     },
     "output_type": "display_data"
    }
   ],
   "source": [
    "#plot roc curve (test set)\n",
    "plt.plot(fpr_r, tpr_r,\n",
    "         label='LSTM micro-average ROC curve (area = {0:0.2f})'\n",
    "               ''.format(roc_auc_r),\n",
    "         color='green', linewidth=1)\n",
    "\n",
    "plt.plot(fpr_c, tpr_c,\n",
    "         label='CNN micro-average ROC curve (area = {0:0.2f})'\n",
    "               ''.format(roc_auc_c),\n",
    "         color='blue', linewidth=1)\n",
    "\n",
    "plt.title(\"test set\")\n",
    "plt.xlabel('False Positive Rate')\n",
    "plt.ylabel('True Positive Rate')\n",
    "\n",
    "plt.legend(loc=\"lower right\")\n",
    "plt.show()\n",
    "\n",
    "\n",
    "\n",
    "#plot roc curve (train set)\n",
    "plt.plot(fpr_rt, tpr_rt,\n",
    "         label='LSTM micro-average ROC curve (area = {0:0.2f})'\n",
    "               ''.format(roc_auc_rt),\n",
    "         color='green', linewidth=1)\n",
    "\n",
    "plt.plot(fpr_ct, tpr_ct,\n",
    "         label='CNN micro-average ROC curve (area = {0:0.2f})'\n",
    "               ''.format(roc_auc_ct),\n",
    "         color='blue', linewidth=1)\n",
    "\n",
    "plt.title(\"train set\")\n",
    "plt.xlabel('False Positive Rate')\n",
    "plt.ylabel('True Positive Rate')\n",
    "\n",
    "plt.legend(loc=\"lower right\")\n",
    "plt.show()"
   ]
  },
  {
   "cell_type": "code",
   "execution_count": null,
   "metadata": {},
   "outputs": [],
   "source": []
  }
 ],
 "metadata": {
  "kernelspec": {
   "display_name": "Python 3",
   "language": "python",
   "name": "python3"
  },
  "language_info": {
   "codemirror_mode": {
    "name": "ipython",
    "version": 3
   },
   "file_extension": ".py",
   "mimetype": "text/x-python",
   "name": "python",
   "nbconvert_exporter": "python",
   "pygments_lexer": "ipython3",
   "version": "3.7.3"
  }
 },
 "nbformat": 4,
 "nbformat_minor": 2
}
